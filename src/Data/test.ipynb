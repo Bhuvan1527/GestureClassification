{
 "cells": [
  {
   "cell_type": "code",
   "execution_count": 5,
   "metadata": {},
   "outputs": [],
   "source": [
    "import torch\n",
    "from torch.utils.data import Dataset\n",
    "from torch.utils.data import DataLoader\n",
    "import numpy as np\n",
    "import pandas as pd\n",
    "import warnings\n",
    "import matplotlib.pyplot as plt\n",
    "\n",
    "warnings.filterwarnings(\"ignore\")\n"
   ]
  },
  {
   "cell_type": "code",
   "execution_count": 2,
   "metadata": {},
   "outputs": [],
   "source": [
    "# train_data = torch.load('../../Gesture/train.pt')\n",
    "# test_data = torch.load('../../Gesture/test.pt')\n",
    "# val_data = torch.load('../../Gesture/val.pt')\n",
    "\n",
    "train_data = torch.load('../../HAR/train.pt')\n",
    "test_data = torch.load('../../HAR/test.pt')\n",
    "val_data = torch.load('../../HAR/val.pt')"
   ]
  },
  {
   "cell_type": "code",
   "execution_count": 3,
   "metadata": {},
   "outputs": [],
   "source": [
    "x_train = train_data[\"samples\"]\n",
    "y_train = train_data[\"labels\"]\n",
    "\n",
    "x_test = test_data[\"samples\"]\n",
    "y_test = test_data[\"labels\"]\n",
    "\n",
    "x_val = val_data[\"samples\"]\n",
    "y_val = val_data[\"labels\"]"
   ]
  },
  {
   "cell_type": "code",
   "execution_count": 4,
   "metadata": {},
   "outputs": [
    {
     "name": "stdout",
     "output_type": "stream",
     "text": [
      "-------------- Train Data ---------------------\n",
      "number of samples: 5881, shape of each sample: torch.Size([3, 206])\n",
      "Labels size: torch.Size([5881])\n",
      "-------------- Test Data ---------------------\n",
      "number of samples: 2947, shape of each sample: torch.Size([3, 206])\n",
      "Labels size: torch.Size([2947])\n",
      "-------------- Validation Data ---------------------\n",
      "number of samples: 1471, shape of each sample: torch.Size([3, 206])\n",
      "Labels size: torch.Size([1471])\n"
     ]
    }
   ],
   "source": [
    "# train data\n",
    "print(\"-------------- Train Data ---------------------\")\n",
    "print(f'number of samples: {x_train.shape[0]}, shape of each sample: {x_train.shape[1:]}')\n",
    "print(f'Labels size: {y_train.shape}')\n",
    "\n",
    "# test data\n",
    "print(\"-------------- Test Data ---------------------\")\n",
    "print(f'number of samples: {x_test.shape[0]}, shape of each sample: {x_test.shape[1:]}')\n",
    "print(f'Labels size: {y_test.shape}')\n",
    "\n",
    "# val data\n",
    "print(\"-------------- Validation Data ---------------------\")\n",
    "print(f'number of samples: {x_val.shape[0]}, shape of each sample: {x_val.shape[1:]}')\n",
    "print(f'Labels size: {y_val.shape}')\n"
   ]
  },
  {
   "cell_type": "code",
   "execution_count": 25,
   "metadata": {},
   "outputs": [],
   "source": [
    "def fillMissingValueWithMean_X(sample:torch.Tensor) -> torch.Tensor:\n",
    "\n",
    "    nSamples = sample.shape[0]\n",
    "    for i in range(nSamples):\n",
    "        numOfNanValues = torch.isnan(sample[i]).sum().item()\n",
    "        if numOfNanValues > 0:\n",
    "            meanValue = torch.nanmean(sample[i])\n",
    "            sample[i] = torch.nan_to_num(sample[i], nan=meanValue)\n",
    "    return sample\n",
    "\n",
    "def fillMissingValueWithMedian_Y(sample:torch.Tensor) -> torch.Tensor:\n",
    "    medianValue = torch.nanmedian(sample)\n",
    "    sample = torch.nan_to_num(sample, nan=medianValue)\n",
    "    return sample\n",
    "\n",
    "\n",
    "\n",
    "def ScaledX(sample:torch.Tensor) -> torch.Tensor:\n",
    "    dimensional_means = sample.mean(dim=(0,2), keepdim=True)\n",
    "    dimensional_std = sample.std(dim=(0,2), keepdim=True)\n",
    "\n",
    "    scaled_sample = (sample - dimensional_means) / dimensional_std\n",
    "    return scaled_sample\n"
   ]
  },
  {
   "cell_type": "code",
   "execution_count": 26,
   "metadata": {},
   "outputs": [],
   "source": [
    "## scaled\n",
    "x_train, y_train = fillMissingValueWithMean_X(x_train), fillMissingValueWithMedian_Y(y_train)\n",
    "x_test, y_test = fillMissingValueWithMean_X(x_test), fillMissingValueWithMedian_Y(y_test)\n",
    "x_val, y_val = fillMissingValueWithMean_X(x_val), fillMissingValueWithMedian_Y(y_val)\n",
    "\n",
    "x_train_scaled, x_test_scaled, x_val_scaled = ScaledX(x_train), ScaledX(x_test), ScaledX(x_val)"
   ]
  },
  {
   "cell_type": "code",
   "execution_count": null,
   "metadata": {},
   "outputs": [
    {
     "name": "stdout",
     "output_type": "stream",
     "text": [
      "number of samples: 320, shape of each sample: torch.Size([3, 206])\n"
     ]
    }
   ],
   "source": [
    "\n"
   ]
  },
  {
   "cell_type": "code",
   "execution_count": 28,
   "metadata": {},
   "outputs": [
    {
     "name": "stdout",
     "output_type": "stream",
     "text": [
      "samples tensor([[0.1904, 0.1911, 0.1900, 0.1898, 0.1899, 0.1883, 0.1886, 0.1879, 0.1831,\n",
      "         0.1819, 0.1864, 0.1916, 0.1912, 0.1899, 0.1929, 0.1927, 0.1926, 0.1940,\n",
      "         0.1917, 0.1890, 0.1841, 0.1821, 0.1870, 0.1884, 0.1876, 0.1893, 0.1908,\n",
      "         0.1905, 0.1888, 0.1897, 0.1935, 0.1961, 0.1918, 0.1843, 0.1846, 0.1853,\n",
      "         0.1819, 0.1827, 0.1860, 0.1913, 0.1942, 0.1923, 0.1934, 0.1943, 0.1940,\n",
      "         0.1936, 0.1889, 0.1845, 0.1824, 0.1830, 0.1842, 0.1835, 0.1871, 0.1911,\n",
      "         0.1895, 0.1881, 0.1880, 0.1873, 0.1863, 0.1860, 0.1863, 0.1869, 0.1879,\n",
      "         0.1875, 0.1873, 0.1878, 0.1873, 0.1875, 0.1877, 0.1883, 0.1893, 0.1885,\n",
      "         0.1866, 0.1839, 0.1829, 0.1855, 0.1880, 0.1888, 0.1899, 0.1907, 0.1902,\n",
      "         0.1898, 0.1881, 0.1842, 0.1823, 0.1835, 0.1838, 0.1842, 0.1871, 0.1893,\n",
      "         0.1899, 0.1905, 0.1902, 0.1890, 0.1879, 0.1871, 0.1875, 0.1877, 0.1873,\n",
      "         0.1878, 0.1884, 0.1890, 0.1891, 0.1886, 0.1890, 0.1890, 0.1891, 0.1908,\n",
      "         0.1916, 0.1888, 0.1846, 0.1839, 0.1860, 0.1882, 0.1912, 0.1910, 0.1896,\n",
      "         0.1926, 0.1935, 0.1909, 0.1899, 0.1900, 0.1907, 0.1898, 0.1874, 0.1829,\n",
      "         0.1796, 0.1850, 0.0000, 0.0000, 0.0000, 0.0000, 0.0000, 0.0000, 0.0000,\n",
      "         0.0000, 0.0000, 0.0000, 0.0000, 0.0000, 0.0000, 0.0000, 0.0000, 0.0000,\n",
      "         0.0000, 0.0000, 0.0000, 0.0000, 0.0000, 0.0000, 0.0000, 0.0000, 0.0000,\n",
      "         0.0000, 0.0000, 0.0000, 0.0000, 0.0000, 0.0000, 0.0000, 0.0000, 0.0000,\n",
      "         0.0000, 0.0000, 0.0000, 0.0000, 0.0000, 0.0000, 0.0000, 0.0000, 0.0000,\n",
      "         0.0000, 0.0000, 0.0000, 0.0000, 0.0000, 0.0000, 0.0000, 0.0000, 0.0000,\n",
      "         0.0000, 0.0000, 0.0000, 0.0000, 0.0000, 0.0000, 0.0000, 0.0000, 0.0000,\n",
      "         0.0000, 0.0000, 0.0000, 0.0000, 0.0000, 0.0000, 0.0000, 0.0000, 0.0000,\n",
      "         0.0000, 0.0000, 0.0000, 0.0000, 0.0000, 0.0000, 0.0000, 0.0000],\n",
      "        [0.7879, 0.7872, 0.7876, 0.7875, 0.7873, 0.7866, 0.7859, 0.7860, 0.7864,\n",
      "         0.7873, 0.7895, 0.7911, 0.7900, 0.7890, 0.7884, 0.7860, 0.7842, 0.7857,\n",
      "         0.7886, 0.7894, 0.7887, 0.7889, 0.7890, 0.7888, 0.7893, 0.7906, 0.7923,\n",
      "         0.7906, 0.7850, 0.7810, 0.7851, 0.7917, 0.7905, 0.7884, 0.7898, 0.7903,\n",
      "         0.7922, 0.7919, 0.7890, 0.7889, 0.7887, 0.7894, 0.7919, 0.7929, 0.7910,\n",
      "         0.7874, 0.7886, 0.7900, 0.7881, 0.7898, 0.7893, 0.7873, 0.7895, 0.7901,\n",
      "         0.7901, 0.7902, 0.7879, 0.7852, 0.7842, 0.7857, 0.7867, 0.7859, 0.7864,\n",
      "         0.7884, 0.7911, 0.7923, 0.7906, 0.7898, 0.7905, 0.7902, 0.7894, 0.7898,\n",
      "         0.7913, 0.7922, 0.7910, 0.7888, 0.7868, 0.7861, 0.7865, 0.7862, 0.7878,\n",
      "         0.7896, 0.7877, 0.7861, 0.7861, 0.7858, 0.7854, 0.7847, 0.7866, 0.7893,\n",
      "         0.7882, 0.7842, 0.7805, 0.7806, 0.7823, 0.7853, 0.7906, 0.7898, 0.7861,\n",
      "         0.7872, 0.7860, 0.7852, 0.7872, 0.7863, 0.7896, 0.7934, 0.7907, 0.7877,\n",
      "         0.7852, 0.7848, 0.7866, 0.7876, 0.7897, 0.7888, 0.7868, 0.7875, 0.7869,\n",
      "         0.7842, 0.7827, 0.7857, 0.7901, 0.7916, 0.7921, 0.7912, 0.7896, 0.7888,\n",
      "         0.7880, 0.7867, 0.0000, 0.0000, 0.0000, 0.0000, 0.0000, 0.0000, 0.0000,\n",
      "         0.0000, 0.0000, 0.0000, 0.0000, 0.0000, 0.0000, 0.0000, 0.0000, 0.0000,\n",
      "         0.0000, 0.0000, 0.0000, 0.0000, 0.0000, 0.0000, 0.0000, 0.0000, 0.0000,\n",
      "         0.0000, 0.0000, 0.0000, 0.0000, 0.0000, 0.0000, 0.0000, 0.0000, 0.0000,\n",
      "         0.0000, 0.0000, 0.0000, 0.0000, 0.0000, 0.0000, 0.0000, 0.0000, 0.0000,\n",
      "         0.0000, 0.0000, 0.0000, 0.0000, 0.0000, 0.0000, 0.0000, 0.0000, 0.0000,\n",
      "         0.0000, 0.0000, 0.0000, 0.0000, 0.0000, 0.0000, 0.0000, 0.0000, 0.0000,\n",
      "         0.0000, 0.0000, 0.0000, 0.0000, 0.0000, 0.0000, 0.0000, 0.0000, 0.0000,\n",
      "         0.0000, 0.0000, 0.0000, 0.0000, 0.0000, 0.0000, 0.0000, 0.0000],\n",
      "        [0.5734, 0.5699, 0.5712, 0.5731, 0.5748, 0.5755, 0.5749, 0.5748, 0.5747,\n",
      "         0.5720, 0.5691, 0.5698, 0.5733, 0.5751, 0.5698, 0.5667, 0.5780, 0.5894,\n",
      "         0.5829, 0.5732, 0.5715, 0.5691, 0.5666, 0.5648, 0.5648, 0.5692, 0.5697,\n",
      "         0.5691, 0.5689, 0.5671, 0.5692, 0.5717, 0.5741, 0.5738, 0.5706, 0.5735,\n",
      "         0.5763, 0.5779, 0.5790, 0.5758, 0.5745, 0.5717, 0.5705, 0.5723, 0.5691,\n",
      "         0.5710, 0.5751, 0.5744, 0.5766, 0.5783, 0.5811, 0.5812, 0.5754, 0.5746,\n",
      "         0.5750, 0.5744, 0.5738, 0.5714, 0.5741, 0.5758, 0.5719, 0.5690, 0.5689,\n",
      "         0.5738, 0.5763, 0.5766, 0.5791, 0.5775, 0.5764, 0.5751, 0.5705, 0.5719,\n",
      "         0.5736, 0.5722, 0.5741, 0.5740, 0.5729, 0.5738, 0.5713, 0.5686, 0.5696,\n",
      "         0.5725, 0.5752, 0.5770, 0.5794, 0.5802, 0.5813, 0.5831, 0.5765, 0.5696,\n",
      "         0.5739, 0.5780, 0.5760, 0.5770, 0.5787, 0.5768, 0.5749, 0.5722, 0.5713,\n",
      "         0.5735, 0.5747, 0.5769, 0.5772, 0.5757, 0.5774, 0.5742, 0.5698, 0.5738,\n",
      "         0.5762, 0.5757, 0.5769, 0.5726, 0.5704, 0.5743, 0.5720, 0.5733, 0.5787,\n",
      "         0.5757, 0.5748, 0.5740, 0.5690, 0.5682, 0.5678, 0.5685, 0.5702, 0.5718,\n",
      "         0.5734, 0.5724, 0.0000, 0.0000, 0.0000, 0.0000, 0.0000, 0.0000, 0.0000,\n",
      "         0.0000, 0.0000, 0.0000, 0.0000, 0.0000, 0.0000, 0.0000, 0.0000, 0.0000,\n",
      "         0.0000, 0.0000, 0.0000, 0.0000, 0.0000, 0.0000, 0.0000, 0.0000, 0.0000,\n",
      "         0.0000, 0.0000, 0.0000, 0.0000, 0.0000, 0.0000, 0.0000, 0.0000, 0.0000,\n",
      "         0.0000, 0.0000, 0.0000, 0.0000, 0.0000, 0.0000, 0.0000, 0.0000, 0.0000,\n",
      "         0.0000, 0.0000, 0.0000, 0.0000, 0.0000, 0.0000, 0.0000, 0.0000, 0.0000,\n",
      "         0.0000, 0.0000, 0.0000, 0.0000, 0.0000, 0.0000, 0.0000, 0.0000, 0.0000,\n",
      "         0.0000, 0.0000, 0.0000, 0.0000, 0.0000, 0.0000, 0.0000, 0.0000, 0.0000,\n",
      "         0.0000, 0.0000, 0.0000, 0.0000, 0.0000, 0.0000, 0.0000, 0.0000]])\n",
      "labels tensor(5., dtype=torch.float64)\n"
     ]
    }
   ],
   "source": [
    "har_train = torch.load('../../HAR/train.pt')\n",
    "for k,v in har_train.items():\n",
    "    print(k, v[0])"
   ]
  },
  {
   "cell_type": "code",
   "execution_count": 30,
   "metadata": {},
   "outputs": [
    {
     "name": "stdout",
     "output_type": "stream",
     "text": [
      "torch.Size([5881, 3, 206])\n"
     ]
    }
   ],
   "source": [
    "har_x_train = har_train[\"samples\"]\n",
    "har_y_train = har_train[\"labels\"]\n",
    "print(har_x_train.shape)"
   ]
  },
  {
   "cell_type": "code",
   "execution_count": null,
   "metadata": {},
   "outputs": [
    {
     "data": {
      "text/plain": [
       "tensor([0., 1., 2., 3., 4., 5.], dtype=torch.float64)"
      ]
     },
     "execution_count": 8,
     "metadata": {},
     "output_type": "execute_result"
    }
   ],
   "source": []
  },
  {
   "cell_type": "code",
   "execution_count": 6,
   "metadata": {},
   "outputs": [
    {
     "data": {
      "image/png": "[encoded data removed]",
      "text/plain": [
       "<Figure size 640x480 with 1 Axes>"
      ]
     },
     "metadata": {},
     "output_type": "display_data"
    }
   ],
   "source": [
    "plt.hist(y_train)\n",
    "plt.show()\n"
   ]
  },
  {
   "cell_type": "code",
   "execution_count": null,
   "metadata": {},
   "outputs": [],
   "source": []
  }
 ],
 "metadata": {
  "kernelspec": {
   "display_name": "dcAss",
   "language": "python",
   "name": "python3"
  },
  "language_info": {
   "codemirror_mode": {
    "name": "ipython",
    "version": 3
   },
   "file_extension": ".py",
   "mimetype": "text/x-python",
   "name": "python",
   "nbconvert_exporter": "python",
   "pygments_lexer": "ipython3",
   "version": "3.12.7"
  }
 },
 "nbformat": 4,
 "nbformat_minor": 2
}
